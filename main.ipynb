{
 "cells": [
  {
   "attachments": {},
   "cell_type": "markdown",
   "metadata": {},
   "source": [
    "\n",
    "# AdventureWorksLT Data Warehouse\n"
   ]
  },
  {
   "cell_type": "code",
   "execution_count": null,
   "metadata": {},
   "outputs": [],
   "source": [
    "# # install the Azure CLI\n",
    "# # https://learn.microsoft.com/en-us/cli/azure/install-azure-cli-windows?tabs=azure-cli\n",
    "\n",
    "# # add the Azure CLI extensions\n",
    "# az extension add --name devops\n",
    "# az extension add --name account\n",
    "# az extension add --name databricks\n",
    "# az extension add --name storage-preview\n",
    "\n",
    "# # install the Databricks CLI\n",
    "# pip install databricks-cli\n",
    "\n",
    "# # install SQLCMD\n",
    "# # https://learn.microsoft.com/en-us/sql/tools/sqlcmd/sqlcmd-utility?view=sql-server-ver16\n",
    "\n",
    "# install dotnet SQl Project support \n",
    "# dotnet tool install -g microsoft.sqlpackage"
   ]
  },
  {
   "cell_type": "code",
   "execution_count": null,
   "metadata": {},
   "outputs": [],
   "source": [
    "# check that all dependencies are installed\n",
    "\n",
    "write-host \"az CLI version\" (az version | ConvertFrom-Json).\"azure-cli\"                                         # min 2.45\n",
    "write-host \"az CLI azure-devops version\" (az extension show --name azure-devops | ConvertFrom-Json).version     # min  0.26\n",
    "write-host \"az CLI databricks version\" (az extension show --name databricks | ConvertFrom-Json).version         # min 0.9\n",
    "write-host \"az CLI account version\" (az extension show --name account | ConvertFrom-Json).version               # mim 0.2\n",
    "write-host \"databricks CLI version\" $($null = (databricks --version) -match \"[\\d.]+\"; $matches[0])              # min 0.17\n",
    "write-host \"sqlcmd version\" $($null = (sqlcmd -? | where {$_ -like \"Version*\"}) -match \"[\\d.]+\"; $matches[0])   # min 15.0\n",
    "write-host \"sqlpackage version\" (SqlPackage /Version )                                                          # min 16.0"
   ]
  },
  {
   "cell_type": "code",
   "execution_count": null,
   "metadata": {},
   "outputs": [],
   "source": [
    "# fill the following information\n",
    "\n",
    "<#\n",
    "\n",
    "# location to place the azure resources\n",
    "$LOCATION = \"eastus\"\n",
    "\n",
    "# random number\n",
    "$SUFFIX   = \"upid\" + $(get-random) \n",
    "\n",
    "# Azure tenant and subscription ID\n",
    "$env:TENANT_ID       = \"\"\n",
    "$env:SUBSCRIPTION_ID = \"\"\n",
    "\n",
    "# Azure DevOpv organization and personal access token\n",
    "$env:AZURE_DEVOPS_ORG     = \"\"\n",
    "$env:AZURE_DEVOPS_EXT_PAT = \"\"\n",
    "\n",
    "# secrets for the SQL database\n",
    "$env:LOCAL_IP           = (Invoke-WebRequest -uri \"https://api.ipify.org/\").Content\n",
    "$env:SQL_ADMIN_USER     = \"dbadmin\"\n",
    "$env:SQL_ADMIN_PASSWORD = \"\"\n",
    "\n",
    "#>\n",
    "\n",
    ". ./secrets.ps1"
   ]
  },
  {
   "cell_type": "code",
   "execution_count": null,
   "metadata": {},
   "outputs": [],
   "source": [
    "# check the number of available vcores\n",
    "\n",
    "$locationQuotas = az vm list-usage --location $LOCATION | ConvertFrom-Json\n",
    "$selectedRegionVCores = [int] ($locationQuotas | where {$_.localName -eq \"Total Regional vCPUs\"}).limit\n",
    "\n",
    "if(-not $selectedRegionVCores -gt 6) { throw \"Not enough VCores\" }"
   ]
  },
  {
   "cell_type": "code",
   "execution_count": null,
   "metadata": {},
   "outputs": [],
   "source": [
    "# import databricks utility functions\n",
    "\n",
    ". ./databricks/utilities.ps1\n",
    ". ./azdevops/utilities.ps1"
   ]
  },
  {
   "cell_type": "code",
   "execution_count": null,
   "metadata": {},
   "outputs": [],
   "source": [
    "# log in to azure\n",
    "\n",
    "$null = az login \n",
    "\n",
    "# set the default subscription\n",
    "\n",
    "az account set --subscription $env:SUBSCRIPTION_ID"
   ]
  },
  {
   "attachments": {},
   "cell_type": "markdown",
   "metadata": {},
   "source": [
    "## Creation of the OLTP environment\n"
   ]
  },
  {
   "cell_type": "code",
   "execution_count": null,
   "metadata": {},
   "outputs": [],
   "source": [
    "$OLTP_RG      = \"AdvWorksLT-OLTP-$SUFFIX\"\n",
    "$OLTP_SQL_SV  = \"AdvWorksLTServer$SUFFIX\"\n",
    "$OLTP_SQL_DB  = \"AdvWorksLTDatabase$SUFFIX\""
   ]
  },
  {
   "cell_type": "code",
   "execution_count": null,
   "metadata": {},
   "outputs": [],
   "source": [
    "# create the OLTP resource group\n",
    "\n",
    "$rgInfo = az group create `\n",
    "    --location      $LOCATION `\n",
    "    --name          $OLTP_RG\n",
    "\n",
    "if( -not $? ) { $rgInfo; throw \"Error\" }"
   ]
  },
  {
   "cell_type": "code",
   "execution_count": null,
   "metadata": {},
   "outputs": [],
   "source": [
    "# create the OLTP SQL server\n",
    "\n",
    "$server = az sql server create `\n",
    "    --name           $OLTP_SQL_SV `\n",
    "    --resource-group $OLTP_RG `\n",
    "    --location       $LOCATION `\n",
    "    --admin-user     $env:SQL_ADMIN_USER `\n",
    "    --admin-password $env:SQL_ADMIN_PASSWORD | \n",
    "    ConvertFrom-Json\n",
    "\n",
    "if( -not $? ) { $server; throw \"Error\" }\n",
    "\n",
    "# allow access to Azure services\n",
    "\n",
    "$null = az sql server firewall-rule create `\n",
    "    --resource-group   $OLTP_RG `\n",
    "    --server           $OLTP_SQL_SV `\n",
    "    --name             AllAzureIPsAccessRule `\n",
    "    --start-ip-address 0.0.0.0 `\n",
    "    --end-ip-address   0.0.0.0\n",
    "\n",
    "# allow access to your IP\n",
    "\n",
    "$null = az sql server firewall-rule create `\n",
    "    --resource-group   $OLTP_RG `\n",
    "    --server           $OLTP_SQL_SV `\n",
    "    --name             LocalIPAccessRule `\n",
    "    --start-ip-address $env:LOCAL_IP `\n",
    "    --end-ip-address   $env:LOCAL_IP"
   ]
  },
  {
   "cell_type": "code",
   "execution_count": null,
   "metadata": {},
   "outputs": [],
   "source": [
    "# create the OLTP SQL database\n",
    "\n",
    "$database = az sql db create `\n",
    "    --resource-group   $OLTP_RG `\n",
    "    --server           $OLTP_SQL_SV `\n",
    "    --name             $OLTP_SQL_DB `\n",
    "    --compute-model    Serverless `\n",
    "    --edition          GeneralPurpose `\n",
    "    --family           Gen5 `\n",
    "    --capacity         1 `\n",
    "    --zone-redundant   false `\n",
    "    --auto-pause-delay 60  `\n",
    "    --backup-storage-redundancy local `\n",
    "    --max-size         2GB | `\n",
    "    ConvertFrom-Json\n",
    "\n",
    "if( -not $? ) { $database; throw \"Error\" }"
   ]
  },
  {
   "cell_type": "code",
   "execution_count": null,
   "metadata": {},
   "outputs": [],
   "source": [
    "# publish the OLTP SQL database from a bacpac\n",
    "\n",
    "$output = SqlPackage /Action:Import `\n",
    "    /TargetServerName:\"$OLTP_SQL_SV.database.windows.net\" `\n",
    "    /TargetDatabaseName:$OLTP_SQL_DB `\n",
    "    /TargetUser:$env:SQL_ADMIN_USER `\n",
    "    /TargetPassword:$env:SQL_ADMIN_PASSWORD `\n",
    "    /TargetEncryptConnection:False `\n",
    "    /SourceFile:\"./sql-database/bacpacs/AdvWorksLT.bacpac\"\n",
    "\n",
    "if (-not $?) { $output; throw \"Error\" }"
   ]
  },
  {
   "attachments": {},
   "cell_type": "markdown",
   "metadata": {},
   "source": [
    "## Creation of the OLAP environment"
   ]
  },
  {
   "cell_type": "code",
   "execution_count": null,
   "metadata": {},
   "outputs": [],
   "source": [
    "$AzDevOpsProject    = \"AdvWorksDW_$SUFFIX\"\n",
    "\n",
    "$OLAP_RG     = \"AdvWorksLT-OLAP-$SUFFIX\"\n",
    "$OLAP_SQL_SV = \"advworksdwsv$SUFFIX\" \n",
    "$OLAP_SQL_DB = \"advworksdw$SUFFIX\"\n",
    "$OLAP_DBS    = \"databricksworkspace$SUFFIX\"\n",
    "$OLAP_SA     = \"adls$SUFFIX\"\n",
    "$OLAP_KV     = \"keyvault$SUFFIX\""
   ]
  },
  {
   "cell_type": "code",
   "execution_count": null,
   "metadata": {},
   "outputs": [],
   "source": [
    "# set the azure devops defaults\n",
    "\n",
    "az devops configure -d `\n",
    "    organization=$env:AZURE_DEVOPS_ORG `\n",
    "    project=$AzDevOpsProject"
   ]
  },
  {
   "cell_type": "code",
   "execution_count": null,
   "metadata": {},
   "outputs": [],
   "source": [
    "# create the OLAP resource group\n",
    "\n",
    "$rgInfo = az group create `\n",
    "    --location      $LOCATION `\n",
    "    --name          $OLAP_RG\n",
    "\n",
    "if( -not $? ) { $rgInfo; throw \"Error\" }"
   ]
  },
  {
   "cell_type": "code",
   "execution_count": null,
   "metadata": {},
   "outputs": [],
   "source": [
    "# creation of a service principal \n",
    "\n",
    "$spName = $OLAP_RG + \"-Contributor\"\n",
    "$spInfo = az ad sp create-for-rbac --name $spName | ConvertFrom-Json"
   ]
  },
  {
   "cell_type": "code",
   "execution_count": null,
   "metadata": {},
   "outputs": [],
   "source": [
    "# assign the contributor role at the rg level to the service principal\n",
    "\n",
    "$role =  (az role definition list --name \"Contributor\" | ConvertFrom-Json).name\n",
    "$scope = \"/subscriptions/$env:SUBSCRIPTION_ID/resourcegroups/$OLAP_RG\"\n",
    "\n",
    "$raInfo = az role assignment create `\n",
    "    --assignee $spInfo.appId `\n",
    "    --role     $role `\n",
    "    --scope    $scope"
   ]
  },
  {
   "cell_type": "code",
   "execution_count": null,
   "metadata": {},
   "outputs": [],
   "source": [
    "# creation of a key vault and secrets\n",
    "\n",
    "$keyVault = az keyvault create `\n",
    "    --name           $OLAP_KV `\n",
    "    --resource-group $OLAP_RG `\n",
    "    --location       $LOCATION\n",
    "\n",
    "if( -not $? ) { $keyVault; throw \"Error\" }\n",
    "\n",
    "$secrets = @{\n",
    "\n",
    "    \"AdvWorksOLTPConnString\" = \"jdbc:sqlserver://$OLTP_SQL_SV.database.windows.net;databaseName=$OLTP_SQL_DB;user=$env:SQL_ADMIN_USER;password=$env:SQL_ADMIN_PASSWORD;\"\n",
    "\n",
    "    \"AdvWorksOLAPServer\"     = \"$OLAP_SQL_SV.database.windows.net\"\n",
    "    \"AdvWorksOLAPDatabase\"   = $OLAP_SQL_DB \n",
    "    \"AdvWorksOLAPUser\"       = $env:SQL_ADMIN_USER\n",
    "    \"AdvWorksOLAPPassword\"   = $env:SQL_ADMIN_PASSWORD\n",
    "    \"AdvWorksOLAPConnString\" = \"jdbc:sqlserver://$OLAP_SQL_SV.database.windows.net;databaseName=$OLAP_SQL_DB;user=$env:SQL_ADMIN_USER;password=$env:SQL_ADMIN_PASSWORD;\"\n",
    "}\n",
    "\n",
    "foreach($_ in $secrets.GetEnumerator()) {\n",
    "    $null = az keyvault secret set `\n",
    "        --vault-name $OLAP_KV `\n",
    "        --name       $_.Name `\n",
    "        --value      $_.Value \n",
    "}\n",
    "\n",
    "# grant get and list access to the service principal\n",
    "\n",
    "$null = az keyvault set-policy `\n",
    "    --name $OLAP_KV `\n",
    "    --spn  $spInfo.appId `\n",
    "    --secret-permissions get list"
   ]
  },
  {
   "attachments": {},
   "cell_type": "markdown",
   "metadata": {},
   "source": [
    "### Creation of the Az DevOps project"
   ]
  },
  {
   "cell_type": "code",
   "execution_count": null,
   "metadata": {},
   "outputs": [],
   "source": [
    "# create an Azure DevOps project\n",
    "\n",
    "$projectInfo = az devops project create `\n",
    "    --name           $AzDevOpsProject `\n",
    "    --source-control git `\n",
    "    --visibility     private | \n",
    "    ConvertFrom-Json"
   ]
  },
  {
   "attachments": {},
   "cell_type": "markdown",
   "metadata": {},
   "source": [
    "### Creation of the Az DevOps Git repo"
   ]
  },
  {
   "cell_type": "code",
   "execution_count": null,
   "metadata": {},
   "outputs": [],
   "source": [
    "# create a repo\n",
    "\n",
    "$null = git add *\n",
    "$null = git commit -m \"initial commit [skip ci]\"\n",
    "git status"
   ]
  },
  {
   "cell_type": "code",
   "execution_count": null,
   "metadata": {},
   "outputs": [],
   "source": [
    "# add a remote and push the changes\n",
    "\n",
    "$repoURL = (az repos list | convertfrom-json)[0].remoteUrl\n",
    "git remote add devopsrepo $repoURL\n",
    "git push -u devopsrepo --all"
   ]
  },
  {
   "attachments": {},
   "cell_type": "markdown",
   "metadata": {},
   "source": [
    "### Creation of an Az ARM service connection"
   ]
  },
  {
   "cell_type": "code",
   "execution_count": null,
   "metadata": {},
   "outputs": [],
   "source": [
    "# retrieve the subscription name\n",
    "\n",
    "$subscription  = az account subscription list | \n",
    "    ConvertFrom-Json | \n",
    "    where {$_.subscriptionId -eq $env:SUBSCRIPTION_ID}\n",
    "\n",
    "# create an Az Pipelines ARM Service Connection\n",
    "\n",
    "$scDef = get-content ./azdevops/service-connections/azure-arm-sc-template.json | ConvertFrom-Json\n",
    "$scDef.data.subscriptionId                          = $env:SUBSCRIPTION_ID\n",
    "$scDef.data.subscriptionName                        = $subscription.displayName\n",
    "$scDef.name                                         = \"MyARMServiceConnection\"\n",
    "$scDef.authorization.parameters.tenantid            = $env:TENANT_ID\n",
    "$scDef.authorization.parameters.serviceprincipalid  = $spInfo.appId\n",
    "$scDef.authorization.parameters.serviceprincipalkey = $spInfo.password\n",
    "$scDef.serviceEndpointProjectReferences[0].projectReference.id = $projectInfo.id\n",
    "$scDef.serviceEndpointProjectReferences[0].projectReference.name = $AzDevOpsProject \n",
    "$scDef.serviceEndpointProjectReferences[0].name     = \"MyARMServiceConnection\"\n",
    "\n",
    "$null = new-item -path ./tmp -ItemType directory\n",
    "$scDef | convertto-json -depth 5 > ./tmp/azure-arm-sc-template.json\n",
    "\n",
    "$scInfo = az devops service-endpoint create `\n",
    "    --service-endpoint-configuration ./tmp/azure-arm-sc-template.json | \n",
    "    ConvertFrom-Json\n",
    "\n",
    "# allow all pipelines to use the service connection\n",
    "\n",
    "$null = az devops service-endpoint update `\n",
    "    --id $scInfo.id --enable-for-all"
   ]
  },
  {
   "attachments": {},
   "cell_type": "markdown",
   "metadata": {},
   "source": [
    "### Creation of a variable group"
   ]
  },
  {
   "cell_type": "code",
   "execution_count": null,
   "metadata": {},
   "outputs": [],
   "source": [
    "function Concat-PipelineArgs($hashtable) {\n",
    "    $result = foreach ($elem in $hashtable.GetEnumerator() ){\n",
    "        \"$($elem.Name)=$($elem.Value)\"\n",
    "    }\n",
    "    $result\n",
    "}"
   ]
  },
  {
   "cell_type": "code",
   "execution_count": null,
   "metadata": {},
   "outputs": [],
   "source": [
    "# creation of a variable group \n",
    "\n",
    "$VGName = \"Variables\"\n",
    "\n",
    "$variables = @{\n",
    "    RG_KEY_VAULT = $OLAP_KV\n",
    "    SA_NAME      = $OLAP_SA\n",
    "    TENANT_ID    = $env:TENANT_ID\n",
    "}\n",
    "\n",
    "# create a variable group and variables\n",
    "\n",
    "$VGInfo = az pipelines variable-group create `\n",
    "    --name      $VGName `\n",
    "    --authorize false `\n",
    "    --variables $(Concat-PipelineArgs $variables) | \n",
    "    ConvertFrom-json\n",
    "\n",
    "# authorize access to all pipelines\n",
    "\n",
    "$null = az pipelines variable-group update `\n",
    "    --group-id  $VGInfo.id `\n",
    "    --authorize true"
   ]
  },
  {
   "attachments": {},
   "cell_type": "markdown",
   "metadata": {},
   "source": [
    "### Creation of the Az Devops pipelines"
   ]
  },
  {
   "cell_type": "code",
   "execution_count": null,
   "metadata": {},
   "outputs": [],
   "source": [
    "$pipelinesFolder = \"./azdevops/pipelines\"\n",
    "\n",
    "foreach ($file in get-childitem $pipelinesFolder){\n",
    "\n",
    "    $pipelineFile = $file.Name\n",
    "    $pipelinePath = \"$pipelinesFolder\\$pipelineFile\"\n",
    "    $pipelineName = $file.Name.replace(\".yml\", \"\")\n",
    "    \n",
    "    $null = az pipelines create `\n",
    "    --name        $pipelineName `\n",
    "    --description \"...\" `\n",
    "    --yml-path    $pipelinePath `\n",
    "    --skip-first-run\n",
    "}"
   ]
  },
  {
   "attachments": {},
   "cell_type": "markdown",
   "metadata": {},
   "source": [
    "### Creation of the OLAP SQL Database"
   ]
  },
  {
   "cell_type": "code",
   "execution_count": null,
   "metadata": {},
   "outputs": [],
   "source": [
    "# create the OLAP SQL server\n",
    "\n",
    "$server = az sql server create `\n",
    "    --name           $OLAP_SQL_SV `\n",
    "    --resource-group $OLAP_RG `\n",
    "    --location       $LOCATION `\n",
    "    --admin-user     $env:SQL_ADMIN_USER `\n",
    "    --admin-password $env:SQL_ADMIN_PASSWORD | \n",
    "    ConvertFrom-Json\n",
    "\n",
    "# allow access to Azure services\n",
    "\n",
    "$null = az sql server firewall-rule create `\n",
    "    --resource-group   $OLAP_RG `\n",
    "    --server           $OLAP_SQL_SV `\n",
    "    --name             AllAzureIPsAccessRule `\n",
    "    --start-ip-address 0.0.0.0 `\n",
    "    --end-ip-address   0.0.0.0\n",
    "\n",
    "# allow access to your IP\n",
    "\n",
    "$null = az sql server firewall-rule create `\n",
    "    --resource-group   $OLAP_RG `\n",
    "    --server           $OLAP_SQL_SV `\n",
    "    --name             LocalIPAccessRule `\n",
    "    --start-ip-address $env:LOCAL_IP `\n",
    "    --end-ip-address   $env:LOCAL_IP"
   ]
  },
  {
   "cell_type": "code",
   "execution_count": null,
   "metadata": {},
   "outputs": [],
   "source": [
    "# create the OLAP SQL database\n",
    "\n",
    "$database = az sql db create `\n",
    "    --resource-group   $OLAP_RG `\n",
    "    --server           $OLAP_SQL_SV `\n",
    "    --name             $OLAP_SQL_DB `\n",
    "    --compute-model    Serverless `\n",
    "    --edition          GeneralPurpose   `\n",
    "    --family           Gen5 `\n",
    "    --capacity         1 `\n",
    "    --zone-redundant   false `\n",
    "    --auto-pause-delay 60  `\n",
    "    --backup-storage-redundancy local `\n",
    "    --max-size         2GB  | `\n",
    "    ConvertFrom-Json"
   ]
  },
  {
   "cell_type": "code",
   "execution_count": null,
   "metadata": {},
   "outputs": [],
   "source": [
    "# deploy the sql project to the OLAP SQL database\n",
    "\n",
    "$pipelineName = \"olapsqldb-build\"\n",
    "$branch       = \"refs/heads/main\"\n",
    "\n",
    "$pipelineRunInfo = az pipelines run `\n",
    "    --branch     $branch `\n",
    "    --name       $pipelineName |\n",
    "    ConvertFrom-Json\n",
    "\n",
    "write-host \"Started pipeline with run id: \" $pipelineRunInfo.id \n",
    "Wait-AzDevOpsPipelineTermination $pipelineRunInfo.id "
   ]
  },
  {
   "attachments": {},
   "cell_type": "markdown",
   "metadata": {},
   "source": [
    "### Creation of the Databricks workspace"
   ]
  },
  {
   "cell_type": "code",
   "execution_count": null,
   "metadata": {},
   "outputs": [],
   "source": [
    "# create a databricks workspace\n",
    "\n",
    "$workspace = az databricks workspace create `\n",
    "    --name           $OLAP_DBS `\n",
    "    --resource-group $OLAP_RG `\n",
    "    --location       $LOCATION `\n",
    "    --require-infrastructure-encryption false `\n",
    "    --sku            premium | ConvertFrom-Json"
   ]
  },
  {
   "cell_type": "code",
   "execution_count": null,
   "metadata": {},
   "outputs": [],
   "source": [
    "# log in to the Databricks workspace"
   ]
  },
  {
   "cell_type": "code",
   "execution_count": null,
   "metadata": {},
   "outputs": [],
   "source": [
    "# creation of a secret scope backed by a key vault\n",
    "# go the following URL and enter the following values\n",
    "\n",
    "$resourceID = \"/subscriptions/$env:SUBSCRIPTION_ID/resourceGroups/$OLAP_RG/providers/Microsoft.KeyVault/vaults/$OLAP_KV\"\n",
    "$dnsName = \"https://$OLAP_KV.vault.azure.net/\"\n",
    "\n",
    "\"URL: https://$($workspace.workspaceUrl)#secrets/createScope\"\n",
    "\"Scope Name: advworkslt\"\n",
    "\"DNS Name: $dnsName\"\n",
    "\"Resource ID: $resourceID\""
   ]
  },
  {
   "cell_type": "code",
   "execution_count": null,
   "metadata": {},
   "outputs": [],
   "source": [
    "# generate Databricks PAT in the UI and save it into the variable env:DATABRICKS_TOKEN\n",
    "\n",
    "# set the DATABRICKS_HOST and DATABRICKS_TOKEN env variables\n",
    "\n",
    "$env:DATABRICKS_HOST  = \"https://\" + $workspace.workspaceUrl\n",
    "$env:DATABRICKS_TOKEN = \"\""
   ]
  },
  {
   "cell_type": "code",
   "execution_count": null,
   "metadata": {},
   "outputs": [],
   "source": [
    "# test the connection to the databricks workspace\n",
    "\n",
    "Assert-DatabricksConnection"
   ]
  },
  {
   "cell_type": "code",
   "execution_count": null,
   "metadata": {},
   "outputs": [],
   "source": [
    "# create a databricks instance pool \n",
    "\n",
    "$poolInfo = databricks instance-pools create `\n",
    "    --json-file ./databricks/instance-pools/testing-pool.json | \n",
    "    ConvertFrom-Json"
   ]
  },
  {
   "cell_type": "code",
   "execution_count": null,
   "metadata": {},
   "outputs": [],
   "source": [
    "# create secrets for the Databricks host and PAT in the Key Vault\n",
    "\n",
    "$secrets = @{\n",
    "    \"DATABRICKS-HOST\" = $env:DATABRICKS_HOST\n",
    "    \"DATABRICKS-PAT\"  = $env:DATABRICKS_TOKEN\n",
    "}\n",
    "\n",
    "foreach($_ in $secrets.GetEnumerator()) {\n",
    "    $null = az keyvault secret set `\n",
    "        --vault-name $OLAP_KV `\n",
    "        --name       $_.Name `\n",
    "        --value      $_.Value \n",
    "}"
   ]
  },
  {
   "attachments": {},
   "cell_type": "markdown",
   "metadata": {},
   "source": [
    "## Simulate Operations"
   ]
  },
  {
   "attachments": {},
   "cell_type": "markdown",
   "metadata": {},
   "source": [
    "### Build the advworksltdw library"
   ]
  },
  {
   "cell_type": "code",
   "execution_count": null,
   "metadata": {},
   "outputs": [],
   "source": [
    "$pipelineName = \"advworksdw-build\"\n",
    "$branch       = \"refs/heads/main\"\n",
    "\n",
    "$pipelineRunInfo = az pipelines run `\n",
    "    --branch     $branch `\n",
    "    --name       $pipelineName |\n",
    "    ConvertFrom-Json\n",
    "\n",
    "write-host \"Started pipeline with run id: \" $pipelineRunInfo.id \n",
    "Wait-AzDevOpsPipelineTermination $pipelineRunInfo.id "
   ]
  },
  {
   "attachments": {},
   "cell_type": "markdown",
   "metadata": {},
   "source": [
    "### Initial Load"
   ]
  },
  {
   "cell_type": "code",
   "execution_count": null,
   "metadata": {},
   "outputs": [],
   "source": [
    "#  activate CDC on the source database\n",
    "\n",
    "sqlcmd -I -b `\n",
    "    -U $env:SQL_ADMIN_USER `\n",
    "    -P $env:SQL_ADMIN_PASSWORD `\n",
    "    -S \"$OLTP_SQL_SV.database.windows.net\" `\n",
    "    -d $OLTP_SQL_DB `\n",
    "    -i ./sql-database/scripts/cdc-setup.sql"
   ]
  },
  {
   "cell_type": "code",
   "execution_count": null,
   "metadata": {},
   "outputs": [],
   "source": [
    "# run the initial load job\n",
    "\n",
    "$runInfo = databricks jobs run-now `\n",
    "    --job-id  $(Get-DatabricksJobId \"AdvWorksDW_InitialLoad\") `\n",
    "    --version 2.1 | \n",
    "    ConvertFrom-Json \n",
    "\n",
    "Wait-DatabricksJobTermination $runInfo.run_id"
   ]
  },
  {
   "cell_type": "code",
   "execution_count": null,
   "metadata": {},
   "outputs": [],
   "source": [
    "# open the AdventureWorksDW-SalesOrdersReport-SQLDatabase.pbit PBI template\n",
    "# provide the following server and database info. Use SQL server authentication.\n",
    "\n",
    "\"$OLAP_SQL_SV.database.windows.net\"\n",
    "$OLAP_SQL_DB"
   ]
  },
  {
   "attachments": {},
   "cell_type": "markdown",
   "metadata": {},
   "source": [
    "### Delta Load for Day 1"
   ]
  },
  {
   "cell_type": "code",
   "execution_count": null,
   "metadata": {},
   "outputs": [],
   "source": [
    "# run the sql database transaction for window 1\n",
    "\n",
    "sqlcmd -I -b `\n",
    "    -U $env:SQL_ADMIN_USER `\n",
    "    -P $env:SQL_ADMIN_PASSWORD `\n",
    "    -S \"$OLTP_SQL_SV.database.windows.net\" `\n",
    "    -d $OLTP_SQL_DB `\n",
    "    -i ./sql-database/scripts/trans/day_1.sql\n",
    "\n",
    "if( -not $? ) { throw \"Error\" }\n",
    "\n",
    "# sleep for 10 seconds\n",
    "\n",
    "start-sleep -seconds 10\n",
    "\n",
    "# trigger the advworksltdw_DeltaLoad job\n",
    "\n",
    "$runInfo = databricks jobs run-now `\n",
    "    --job-id  $(Get-DatabricksJobId \"AdvWorksDW_DeltaLoad\") `\n",
    "    --version 2.1 | \n",
    "    ConvertFrom-Json \n",
    "\n",
    "Wait-DatabricksJobTermination $runInfo.run_id"
   ]
  },
  {
   "cell_type": "code",
   "execution_count": null,
   "metadata": {},
   "outputs": [],
   "source": [
    "# refresh the PBI template to see the new data"
   ]
  },
  {
   "attachments": {},
   "cell_type": "markdown",
   "metadata": {},
   "source": [
    "### Delta Load for Day 2"
   ]
  },
  {
   "cell_type": "code",
   "execution_count": null,
   "metadata": {},
   "outputs": [],
   "source": [
    "# run the sql database transaction for window 2\n",
    "\n",
    "sqlcmd -I -b `\n",
    "    -U $env:SQL_ADMIN_USER `\n",
    "    -P $env:SQL_ADMIN_PASSWORD `\n",
    "    -S \"$OLTP_SQL_SV.database.windows.net\" `\n",
    "    -d $OLTP_SQL_DB `\n",
    "    -i ./sql-database/scripts/trans/day_2.sql\n",
    "\n",
    "if( -not $? ) { throw \"Error\" }\n",
    "\n",
    "# sleep for 10 seconds\n",
    "\n",
    "start-sleep -seconds 10\n",
    "\n",
    "# trigger the advworksltdw_DeltaLoad job\n",
    "\n",
    "$runInfo = databricks jobs run-now `\n",
    "    --job-id  $(Get-DatabricksJobId \"AdvWorksDW_DeltaLoad\") `\n",
    "    --version 2.1 | \n",
    "    ConvertFrom-Json \n",
    "\n",
    "Wait-DatabricksJobTermination $runInfo.run_id"
   ]
  },
  {
   "cell_type": "code",
   "execution_count": null,
   "metadata": {},
   "outputs": [],
   "source": [
    "# refresh the PBI template to see the new data"
   ]
  },
  {
   "attachments": {},
   "cell_type": "markdown",
   "metadata": {},
   "source": [
    "## Clean up resources"
   ]
  },
  {
   "cell_type": "code",
   "execution_count": null,
   "metadata": {},
   "outputs": [],
   "source": [
    "# delete the service principal\n",
    "\n",
    "az ad sp delete --id $spInfo.appId"
   ]
  },
  {
   "cell_type": "code",
   "execution_count": null,
   "metadata": {},
   "outputs": [],
   "source": [
    "# delete the devops project\n",
    "\n",
    "az devops project delete --id $projectInfo.id --yes"
   ]
  },
  {
   "cell_type": "code",
   "execution_count": null,
   "metadata": {},
   "outputs": [],
   "source": [
    "# delete the OLTP resource group\n",
    "\n",
    "az group delete --name $OLTP_RG --yes"
   ]
  },
  {
   "cell_type": "code",
   "execution_count": null,
   "metadata": {},
   "outputs": [],
   "source": [
    "# delete the OLAP resource group\n",
    "\n",
    "az group delete --name $OLAP_RG --yes"
   ]
  },
  {
   "cell_type": "code",
   "execution_count": null,
   "metadata": {},
   "outputs": [],
   "source": []
  }
 ],
 "metadata": {
  "kernelspec": {
   "display_name": "PowerShell",
   "language": "powershell",
   "name": "powershell"
  },
  "language_info": {
   "codemirror_mode": "shell",
   "file_extension": ".ps1",
   "mimetype": "text/x-sh",
   "name": "powershell"
  }
 },
 "nbformat": 4,
 "nbformat_minor": 2
}
